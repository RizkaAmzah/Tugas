{
 "cells": [
  {
   "cell_type": "markdown",
   "metadata": {},
   "source": [
    "# 5.12 List di Python"
   ]
  },
  {
   "cell_type": "code",
   "execution_count": null,
   "metadata": {},
   "outputs": [],
   "source": [
    "atk = ['buku', 'pulpen',\n",
    "      'pensil', 'penghapus']\n",
    "print(atk)\n",
    "print(atk[0])\n",
    "print(atk[3])\n",
    "print(atk[-2])\n",
    "print(atk[-3])\n",
    "atk[0] = 'amplop'\n",
    "print(atk[2:4])\n",
    "# tidak merubah list\n",
    "print(atk)"
   ]
  },
  {
   "cell_type": "markdown",
   "metadata": {},
   "source": [
    "# 5.13 Metoda List"
   ]
  },
  {
   "cell_type": "code",
   "execution_count": null,
   "metadata": {},
   "outputs": [],
   "source": [
    "profesi = ['Polisi', 'Insinyur', 'Arsitek']\n",
    "profesi.append('Guru')\n",
    "print(profesi)\n",
    "profesi.insert(0, 'Bidan')\n",
    "print(profesi)\n",
    "profesi.remove('Insinyur')\n",
    "print(profesi)\n",
    "print('Insinyur' in profesi)\n",
    "print('Bidan' in profesi)\n",
    "print(len(profesi))"
   ]
  },
  {
   "cell_type": "markdown",
   "metadata": {},
   "source": [
    "# 5.14 For Loop"
   ]
  },
  {
   "cell_type": "code",
   "execution_count": null,
   "metadata": {},
   "outputs": [],
   "source": [
    "sembako = ['beras', 'gula',\n",
    "        'telur', 'minyak'] \n",
    "for jenis in sembako:\n",
    "    print(jenis)"
   ]
  },
  {
   "cell_type": "code",
   "execution_count": null,
   "metadata": {},
   "outputs": [],
   "source": [
    "i = 0\n",
    "while i < len(sembako) :\n",
    "    print(sembako[i])\n",
    "    i+=1"
   ]
  },
  {
   "cell_type": "markdown",
   "metadata": {},
   "source": [
    "# 5.15 Fungsi Range"
   ]
  },
  {
   "cell_type": "code",
   "execution_count": null,
   "metadata": {},
   "outputs": [],
   "source": [
    "nomor = range(7)\n",
    "print(nomor)\n",
    "for isi in nomor:\n",
    "    print(isi)"
   ]
  },
  {
   "cell_type": "code",
   "execution_count": null,
   "metadata": {},
   "outputs": [],
   "source": [
    "for isi in range(4,11):\n",
    "    print(isi)"
   ]
  },
  {
   "cell_type": "code",
   "execution_count": null,
   "metadata": {},
   "outputs": [],
   "source": [
    "for isi in range(1,11,3):   \n",
    "    print(isi)"
   ]
  },
  {
   "cell_type": "markdown",
   "metadata": {},
   "source": [
    "### 1. Buatlah program untuk mencari nilai terbesar didalam suatu list"
   ]
  },
  {
   "cell_type": "code",
   "execution_count": null,
   "metadata": {},
   "outputs": [],
   "source": [
    "nomor = [7,8,9,10,11,10,9,8,7]\n",
    "terbesar = nomor[0]\n",
    "for i in range(len(nomor)):\n",
    "    if nomor[i] > terbesar:\n",
    "        terbesar = nomor[i]\n",
    "print(terbesar)"
   ]
  },
  {
   "cell_type": "markdown",
   "metadata": {},
   "source": [
    "### 2. Buatlah program untuk membuat anggota list menjadi unik dengan kata lain tidak boleh ada anggota list yang kembar"
   ]
  },
  {
   "cell_type": "code",
   "execution_count": null,
   "metadata": {},
   "outputs": [],
   "source": [
    "data = [7,8,9,10,11,12,9,10,11,13,14,13]\n",
    "data_unik = []\n",
    "for anggota in data:\n",
    "    if anggota not in data_unik:\n",
    "        data_unik.append(anggota)\n",
    "print(data_unik)"
   ]
  },
  {
   "cell_type": "markdown",
   "metadata": {},
   "source": [
    "# 5.16 List 2 Dimensi"
   ]
  },
  {
   "cell_type": "code",
   "execution_count": null,
   "metadata": {},
   "outputs": [],
   "source": [
    "matriks = [\n",
    "    [1,3,5],\n",
    "    [2,4,6],\n",
    "    [7,9,11],\n",
    "    [8,10,12]\n",
    "]\n",
    "print(matriks)"
   ]
  },
  {
   "cell_type": "code",
   "execution_count": null,
   "metadata": {},
   "outputs": [],
   "source": [
    "matriks[3]"
   ]
  },
  {
   "cell_type": "code",
   "execution_count": null,
   "metadata": {},
   "outputs": [],
   "source": [
    "matriks[1][2]"
   ]
  },
  {
   "cell_type": "code",
   "execution_count": null,
   "metadata": {},
   "outputs": [],
   "source": [
    "matriks[1][2]=30\n",
    "print(matriks[1][2])"
   ]
  },
  {
   "cell_type": "code",
   "execution_count": null,
   "metadata": {},
   "outputs": [],
   "source": [
    "matriks"
   ]
  },
  {
   "cell_type": "markdown",
   "metadata": {},
   "source": [
    "# 5.17 Tuples"
   ]
  },
  {
   "cell_type": "code",
   "execution_count": null,
   "metadata": {},
   "outputs": [],
   "source": [
    "data = (7,8,9,10,11)"
   ]
  },
  {
   "cell_type": "code",
   "execution_count": null,
   "metadata": {},
   "outputs": [],
   "source": [
    "print(data[1])"
   ]
  },
  {
   "cell_type": "code",
   "execution_count": null,
   "metadata": {},
   "outputs": [],
   "source": [
    "print(data[1:4])"
   ]
  },
  {
   "cell_type": "code",
   "execution_count": null,
   "metadata": {},
   "outputs": [],
   "source": [
    "for isi in data[1:4]:\n",
    "    print(isi)"
   ]
  },
  {
   "cell_type": "markdown",
   "metadata": {},
   "source": [
    "# 5.18 Dictionaries"
   ]
  },
  {
   "cell_type": "code",
   "execution_count": null,
   "metadata": {},
   "outputs": [],
   "source": [
    "data_diri = {\n",
    "    \"nama\":\"Rizka Amzah\",\n",
    "    \"umur\":\"18\",\n",
    "    \"tanggal lahir\":\"11-7-2004\",\n",
    "    \"pekerjaan\":\"Mahasiswa\",\n",
    "    \"warna kesukaan\":\"biru\",\n",
    "    \"hobi\":\"shopping\"\n",
    "}\n",
    "print(data_diri)"
   ]
  },
  {
   "cell_type": "code",
   "execution_count": null,
   "metadata": {},
   "outputs": [],
   "source": [
    "print(data_diri['hobi'])"
   ]
  },
  {
   "cell_type": "code",
   "execution_count": null,
   "metadata": {},
   "outputs": [],
   "source": [
    "print(data_diri[\"hobi\"])"
   ]
  },
  {
   "cell_type": "code",
   "execution_count": null,
   "metadata": {},
   "outputs": [],
   "source": [
    "print(data_diri.get('nama'))"
   ]
  },
  {
   "cell_type": "code",
   "execution_count": null,
   "metadata": {},
   "outputs": [],
   "source": [
    "print(data_diri.get(\"nama\"))"
   ]
  },
  {
   "cell_type": "code",
   "execution_count": null,
   "metadata": {},
   "outputs": [],
   "source": [
    "print(data_diri.get('tanggal lahir'))"
   ]
  },
  {
   "cell_type": "code",
   "execution_count": null,
   "metadata": {},
   "outputs": [],
   "source": [
    "print(data_diri)"
   ]
  },
  {
   "cell_type": "code",
   "execution_count": null,
   "metadata": {},
   "outputs": [],
   "source": [
    "data_diri['HP'] = '08123456789'"
   ]
  },
  {
   "cell_type": "code",
   "execution_count": null,
   "metadata": {},
   "outputs": [],
   "source": [
    "print(data_diri[\"HP\"])"
   ]
  },
  {
   "cell_type": "code",
   "execution_count": null,
   "metadata": {},
   "outputs": [],
   "source": [
    "print(data_diri)"
   ]
  },
  {
   "cell_type": "markdown",
   "metadata": {},
   "source": [
    "### Buatlah program untuk merubah nomor HP yang tadinya berupa angka menjadi sebutan bilangan tersebut."
   ]
  },
  {
   "cell_type": "code",
   "execution_count": null,
   "metadata": {},
   "outputs": [],
   "source": [
    "nomor_HP = input(\"masukkan nomor HP \")\n",
    "nomor_angka = \"\"\n",
    "for isi in nomor_HP:\n",
    "    nomor_angka += angka.get(isi) + \" \"\n",
    "print(nomor_angka)"
   ]
  },
  {
   "cell_type": "markdown",
   "metadata": {},
   "source": [
    "# 5.19 Fungsi dalam Python"
   ]
  },
  {
   "cell_type": "code",
   "execution_count": null,
   "metadata": {},
   "outputs": [],
   "source": [
    "def full_nama(firs_name,last_nama):\n",
    "    print(f\"Nama lengkapnya adalah) {nama_depan} {nama_belakang}\")"
   ]
  },
  {
   "cell_type": "code",
   "execution_count": null,
   "metadata": {},
   "outputs": [],
   "source": [
    "first_name = input(\"Nama depan anda adalah \")\n",
    "last_name = input(\"Nama belakang anda adalah \")\n",
    "full_name(\"first_name, last_name\")"
   ]
  },
  {
   "cell_type": "markdown",
   "metadata": {},
   "source": [
    "### Buatlah program yang menggunakan fungsi phyton untuk menghitung luas jajar genjang, belah ketupat, segitiga dan persegi panjang. Selain itu berikan peringatan bagi bidang lain yang tidak masuk perhitungan"
   ]
  },
  {
   "cell_type": "code",
   "execution_count": null,
   "metadata": {},
   "outputs": [],
   "source": [
    "import numpy as np"
   ]
  },
  {
   "cell_type": "code",
   "execution_count": null,
   "metadata": {},
   "outputs": [],
   "source": [
    "def luas_jajar_genjang(alas,tinggi):\n",
    "    luas = alas*tinggi\n",
    "    return luas\n",
    "def luas_belah_ketupat(d1,d2):\n",
    "    luas = (1/2)*d1*d2\n",
    "    return luas\n",
    "def luas_segitiga(alas,tinggi):\n",
    "    luas = (1/2)*alas*tinggi\n",
    "    return luas\n",
    "def luas_persegi_panjang(panjang,lebar):\n",
    "    luas = panjang*lebar\n",
    "    return luas"
   ]
  },
  {
   "cell_type": "code",
   "execution_count": null,
   "metadata": {},
   "outputs": [],
   "source": [
    "jenis_bidang = input(\"Tulis jenis bidang \")\n",
    "if jenis_bidang.upper() == 'JAJAR GENJANG':\n",
    "    alas = float(input('berapa panjang alas? '))\n",
    "    tinggi = float(input('berapa tingginya? '))\n",
    "    luas = luas_jajar_genjang(alas,tinggi)\n",
    "    print(f\"luas{jenis_bidang} adalah {luas}\")\n",
    "elif jenis_bidang.upper() == 'BELAH KETUPAT':\n",
    "    d1 = float(input('berapa d1 nya? '))\n",
    "    d2 = float(input('berapa d2 nya? '))\n",
    "    luas = luas_belah_ketupat(di,d2)\n",
    "    print(f\"luas{jenis_bidang} adalah {luas}\")\n",
    "elif jenis_bidang.upper() == 'SEGITIGA':\n",
    "    alas = float(input('berapa panjang alas? '))\n",
    "    tinggi = float(input('berapa tingginya? '))\n",
    "    luas = luas_segitiga(alas_tinggi)\n",
    "    print(f\"luas{jenis_bidang} adalah {luas}\")\n",
    "elif jenis_bidang.upper() == 'PERSEGI PANJANG':\n",
    "    alas = float(input('berapa panjang alas? '))\n",
    "    tinggi = float(input('berapa tingginya? '))\n",
    "    luas = luas_persegi_panjang(alas_tinggi)\n",
    "    print(f\"luas{jenis_bidang} adalah {luas}\")\n",
    "else:\n",
    "    print(f\"maaf bidang {jenis_bidang} yang anda masukkan tidak ada.\")\n",
    "    print(\"pilihan cuma JAJAR GENJANG, BELAH KETUPAT, SEGITIGA, PERSEGI PANJANG,\")\n",
    "    print(Terimakasih)"
   ]
  }
 ],
 "metadata": {
  "kernelspec": {
   "display_name": "Python 3",
   "language": "python",
   "name": "python3"
  },
  "language_info": {
   "codemirror_mode": {
    "name": "ipython",
    "version": 3
   },
   "file_extension": ".py",
   "mimetype": "text/x-python",
   "name": "python",
   "nbconvert_exporter": "python",
   "pygments_lexer": "ipython3",
   "version": "3.8.5"
  }
 },
 "nbformat": 4,
 "nbformat_minor": 4
}
